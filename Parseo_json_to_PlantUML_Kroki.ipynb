{
 "cells": [
  {
   "cell_type": "code",
   "execution_count": 129,
   "metadata": {},
   "outputs": [],
   "source": [
    "import requests\n",
    "import json"
   ]
  },
  {
   "cell_type": "code",
   "execution_count": 136,
   "metadata": {},
   "outputs": [],
   "source": [
    "def Json_a_PlantUML(json_data):\n",
    "    codigo_PlantUML = \"@startuml\\n\"\n",
    "    clases_definidas = set()  # Evita clases duplicadas\n",
    "\n",
    "    def process_object(name, obj):\n",
    "        if name in clases_definidas:\n",
    "            return \"\"  # No repetir clases\n",
    "\n",
    "        clases_definidas.add(name)\n",
    "        class_PlantUML = f\"class {name} {{\\n\"\n",
    "        attributes = \"\"\n",
    "        relationships = \"\"\n",
    "\n",
    "        for key, value in obj.items():\n",
    "            if isinstance(value, dict):  # Si es un objeto anidado\n",
    "                class_name = key.capitalize()\n",
    "                relationships += f\"{name} --> {class_name} : tiene\\n\"\n",
    "                relationships += process_object(class_name, value)  # Procesa subclase\n",
    "            else:\n",
    "                type_name = \"String\" if isinstance(value, str) else \"Integer\"\n",
    "                attributes += f\"  + {key}: {type_name}\\n\"\n",
    "\n",
    "        class_PlantUML += attributes + \"}\\n\\n\"  # Cierre correcto de clase\n",
    "        return class_PlantUML + relationships\n",
    "\n",
    "    # Generar código PlantUML sin errores de llaves\n",
    "    codigo_PlantUML += process_object(\"Root\", json_data)\n",
    "    codigo_PlantUML += \"@enduml\"\n",
    "\n",
    "    return codigo_PlantUML\n"
   ]
  },
  {
   "cell_type": "code",
   "execution_count": 137,
   "metadata": {},
   "outputs": [],
   "source": [
    "json_data = {\n",
    "    \"Usuario\": {\n",
    "        \"nombre\": \"Juan\",\n",
    "        \"edad\": 25,\n",
    "        \"direccion\": {\n",
    "            \"calle\": \"Calle 123\",\n",
    "            \"ciudad\": \"Bogotá\"\n",
    "        }\n",
    "    }\n",
    "}\n",
    "\n",
    "plantuml_code = Json_a_PlantUML(json_data)\n",
    "\n",
    "with open(\"diagrama.puml\", \"w\") as f:\n",
    "    f.write(plantuml_code)\n"
   ]
  },
  {
   "cell_type": "code",
   "execution_count": 139,
   "metadata": {},
   "outputs": [],
   "source": [
    "response = requests.post(\n",
    "    \"https://kroki.io/plantuml/svg\",\n",
    "    data=plantuml_code.encode(\"utf-8\"),\n",
    "    headers={\"Content-Type\": \"text/plain\"},\n",
    ")\n",
    "\n",
    "# Guardar la imagen generada\n",
    "with open(\"diagrama.svg\", \"wb\") as f:\n",
    "    f.write(response.content)"
   ]
  }
 ],
 "metadata": {
  "kernelspec": {
   "display_name": "Python 3",
   "language": "python",
   "name": "python3"
  },
  "language_info": {
   "codemirror_mode": {
    "name": "ipython",
    "version": 3
   },
   "file_extension": ".py",
   "mimetype": "text/x-python",
   "name": "python",
   "nbconvert_exporter": "python",
   "pygments_lexer": "ipython3",
   "version": "3.11.0"
  }
 },
 "nbformat": 4,
 "nbformat_minor": 2
}
